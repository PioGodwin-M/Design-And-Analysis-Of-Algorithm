{
 "cells": [
  {
   "cell_type": "code",
   "execution_count": 1,
   "id": "9300b56e-63da-46e0-950a-3762d5d73b76",
   "metadata": {},
   "outputs": [
    {
     "name": "stdout",
     "output_type": "stream",
     "text": [
      "Element found at index 6\n"
     ]
    }
   ],
   "source": [
    "def interpolation_search(arr, x):\n",
    "    low = 0\n",
    "    high = len(arr) - 1\n",
    "\n",
    "    while low <= high and arr[low] <= x <= arr[high]:\n",
    "        # To prevent division by zero\n",
    "        if arr[low] == arr[high]:\n",
    "            if arr[low] == x:\n",
    "                return low\n",
    "            return -1\n",
    "\n",
    "        # Estimate the position of the target element\n",
    "        pos = low + ((high - low) // (arr[high] - arr[low]) * (x - arr[low]))\n",
    "\n",
    "        # Check if the estimated position holds the target element\n",
    "        if arr[pos] == x:\n",
    "            return pos\n",
    "\n",
    "        # If the target is larger, it is in the upper part\n",
    "        if arr[pos] < x:\n",
    "            low = pos + 1\n",
    "        # If the target is smaller, it is in the lower part\n",
    "        else:\n",
    "            high = pos - 1\n",
    "\n",
    "    return -1  # Element is not in the array\n",
    "\n",
    "\n",
    "# Example usage\n",
    "arr = [10, 20, 30, 40, 50, 60, 70, 80, 90, 100]\n",
    "x = 70\n",
    "result = interpolation_search(arr, x)\n",
    "\n",
    "if result != -1:\n",
    "    print(f\"Element found at index {result}\")\n",
    "else:\n",
    "    print(\"Element not found\")\n"
   ]
  },
  {
   "cell_type": "code",
   "execution_count": null,
   "id": "ebb27349-796a-4d8f-9ee4-4f9c98eb84b6",
   "metadata": {},
   "outputs": [],
   "source": []
  }
 ],
 "metadata": {
  "kernelspec": {
   "display_name": "Python 3 (ipykernel)",
   "language": "python",
   "name": "python3"
  },
  "language_info": {
   "codemirror_mode": {
    "name": "ipython",
    "version": 3
   },
   "file_extension": ".py",
   "mimetype": "text/x-python",
   "name": "python",
   "nbconvert_exporter": "python",
   "pygments_lexer": "ipython3",
   "version": "3.13.5"
  }
 },
 "nbformat": 4,
 "nbformat_minor": 5
}
