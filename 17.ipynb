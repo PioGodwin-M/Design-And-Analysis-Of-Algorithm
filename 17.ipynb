{
 "cells": [
  {
   "cell_type": "code",
   "execution_count": 1,
   "id": "9e63e2c4-84f7-4651-b26a-9f01a16b47d1",
   "metadata": {},
   "outputs": [
    {
     "name": "stdout",
     "output_type": "stream",
     "text": [
      "Optimal path length: 25.455844122715707\n",
      "Optimal path order: ((0, 0), (1, 1), (2, 2), (4, 4), (5, 5), (8, 8), (9, 9), (7, 7), (6, 6), (3, 3))\n",
      "Time taken (brute force): 21.350295782089233 seconds\n",
      "Approximate path length: 25.455844122715714\n",
      "Approximate path order: [(0, 0), (1, 1), (2, 2), (3, 3), (4, 4), (5, 5), (6, 6), (7, 7), (8, 8), (9, 9)]\n",
      "Time taken (nearest neighbor): 0.00021409988403320312 seconds\n"
     ]
    }
   ],
   "source": [
    "import itertools\n",
    "import time\n",
    "\n",
    "def distance(city1, city2):\n",
    "    # Euclidean distance between two cities\n",
    "    return ((city1[0] - city2[0]) ** 2 + (city1[1] - city2[1]) ** 2) ** 0.5\n",
    "\n",
    "def tsp_brute_force(cities):\n",
    "    # Calculate all possible permutations of the cities\n",
    "    permutations = itertools.permutations(cities)\n",
    "\n",
    "    # Initialize the shortest path\n",
    "    shortest_path = float('inf')\n",
    "    shortest_path_order = None\n",
    "\n",
    "    # Iterate over all permutations to find the shortest path\n",
    "    for permutation in permutations:\n",
    "        path_length = 0\n",
    "        for i in range(len(permutation) - 1):\n",
    "            path_length += distance(permutation[i], permutation[i + 1])\n",
    "        # Add distance to return to the starting city\n",
    "        path_length += distance(permutation[-1], permutation[0])\n",
    "\n",
    "        if path_length < shortest_path:\n",
    "            shortest_path = path_length\n",
    "            shortest_path_order = permutation\n",
    "\n",
    "    return shortest_path, shortest_path_order\n",
    "\n",
    "def tsp_nearest_neighbor(cities):\n",
    "    current_city = cities[0]\n",
    "    visited_cities = [current_city]\n",
    "    unvisited_cities = set(cities[1:])\n",
    "\n",
    "    # Build path using nearest neighbor\n",
    "    while unvisited_cities:\n",
    "        nearest_neighbor = None\n",
    "        nearest_distance = float('inf')\n",
    "        for city in unvisited_cities:\n",
    "            dist_to_city = distance(current_city, city)\n",
    "            if dist_to_city < nearest_distance:\n",
    "                nearest_distance = dist_to_city\n",
    "                nearest_neighbor = city\n",
    "\n",
    "        visited_cities.append(nearest_neighbor)\n",
    "        unvisited_cities.remove(nearest_neighbor)\n",
    "        current_city = nearest_neighbor\n",
    "\n",
    "    # Calculate total distance including return to start\n",
    "    total_distance = 0\n",
    "    for i in range(len(visited_cities) - 1):\n",
    "        total_distance += distance(visited_cities[i], visited_cities[i + 1])\n",
    "    total_distance += distance(visited_cities[-1], visited_cities[0])\n",
    "\n",
    "    return total_distance, visited_cities\n",
    "\n",
    "# List of cities (coordinates)\n",
    "cities = [(0,0), (1,1), (2,2), (3,3), (4,4), (5,5), (6,6), (7,7), (8,8), (9,9)]\n",
    "\n",
    "# Brute force solution\n",
    "start_time = time.time()\n",
    "optimal_path_length, optimal_path_order = tsp_brute_force(cities)\n",
    "end_time = time.time()\n",
    "print(\"Optimal path length:\", optimal_path_length)\n",
    "print(\"Optimal path order:\", optimal_path_order)\n",
    "print(\"Time taken (brute force):\", end_time - start_time, \"seconds\")\n",
    "\n",
    "# Nearest neighbor approximation\n",
    "start_time = time.time()\n",
    "approx_path_length, approx_path_order = tsp_nearest_neighbor(cities)\n",
    "end_time = time.time()\n",
    "print(\"Approximate path length:\", approx_path_length)\n",
    "print(\"Approximate path order:\", approx_path_order)\n",
    "print(\"Time taken (nearest neighbor):\", end_time - start_time, \"seconds\")\n"
   ]
  },
  {
   "cell_type": "code",
   "execution_count": null,
   "id": "5c55a153-d626-4640-ae55-6cb78705d019",
   "metadata": {},
   "outputs": [],
   "source": []
  },
  {
   "cell_type": "code",
   "execution_count": null,
   "id": "8a640238-09c6-4d99-972c-72445a41ecc3",
   "metadata": {},
   "outputs": [],
   "source": []
  }
 ],
 "metadata": {
  "kernelspec": {
   "display_name": "Python 3 (ipykernel)",
   "language": "python",
   "name": "python3"
  },
  "language_info": {
   "codemirror_mode": {
    "name": "ipython",
    "version": 3
   },
   "file_extension": ".py",
   "mimetype": "text/x-python",
   "name": "python",
   "nbconvert_exporter": "python",
   "pygments_lexer": "ipython3",
   "version": "3.13.5"
  }
 },
 "nbformat": 4,
 "nbformat_minor": 5
}
