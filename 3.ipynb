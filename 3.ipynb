{
 "cells": [
  {
   "cell_type": "code",
   "execution_count": 2,
   "id": "3b5547ff-5671-4055-a8dc-e4b85d0ca31b",
   "metadata": {},
   "outputs": [
    {
     "name": "stdout",
     "output_type": "stream",
     "text": [
      "Pattern found at indices: [0, 9, 12]\n"
     ]
    }
   ],
   "source": [
    "def search(pat, txt):\n",
    "    n = len(txt)\n",
    "    m = len(pat)\n",
    "    result = []\n",
    "\n",
    "    for i in range(n - m + 1):\n",
    "        j = 0\n",
    "        while j < m:\n",
    "            if txt[i + j] != pat[j]:\n",
    "                break\n",
    "            j += 1\n",
    "\n",
    "        if j == m:\n",
    "            result.append(i)\n",
    "\n",
    "    return result\n",
    "\n",
    "\n",
    "# Example usage\n",
    "txt = \"AABAACAADAABAABA\"\n",
    "pat = \"AABA\"\n",
    "result = search(pat, txt)\n",
    "print(\"Pattern found at indices:\", result)\n"
   ]
  },
  {
   "cell_type": "code",
   "execution_count": null,
   "id": "0f697e40-5cc7-41d2-9134-eca16fbb693c",
   "metadata": {},
   "outputs": [],
   "source": []
  }
 ],
 "metadata": {
  "kernelspec": {
   "display_name": "Python 3 (ipykernel)",
   "language": "python",
   "name": "python3"
  },
  "language_info": {
   "codemirror_mode": {
    "name": "ipython",
    "version": 3
   },
   "file_extension": ".py",
   "mimetype": "text/x-python",
   "name": "python",
   "nbconvert_exporter": "python",
   "pygments_lexer": "ipython3",
   "version": "3.13.5"
  }
 },
 "nbformat": 4,
 "nbformat_minor": 5
}
