{
 "cells": [
  {
   "cell_type": "code",
   "execution_count": 1,
   "id": "f4a2cf59-f0cb-4c3d-93dc-87e0b3185cbe",
   "metadata": {},
   "outputs": [
    {
     "name": "stdout",
     "output_type": "stream",
     "text": [
      "Maximum number: 9\n",
      "Minimum number: 1\n"
     ]
    }
   ],
   "source": [
    "def find_max_min(arr):\n",
    "    if len(arr) == 1:\n",
    "        return arr[0], arr[0]\n",
    "    elif len(arr) == 2:\n",
    "        if arr[0] > arr[1]:\n",
    "            return arr[0], arr[1]\n",
    "        else:\n",
    "            return arr[1], arr[0]\n",
    "    else:\n",
    "        mid = len(arr) // 2\n",
    "        left_max, left_min = find_max_min(arr[:mid])\n",
    "        right_max, right_min = find_max_min(arr[mid:])\n",
    "        return max(left_max, right_max), min(left_min, right_min)\n",
    "\n",
    "# Example usage\n",
    "arr = [3, 1, 5, 2, 9, 7]\n",
    "max_num, min_num = find_max_min(arr)\n",
    "print(\"Maximum number:\", max_num)\n",
    "print(\"Minimum number:\", min_num)\n"
   ]
  },
  {
   "cell_type": "code",
   "execution_count": null,
   "id": "7963d8c5-a867-43ea-94b6-26943b7fbb9d",
   "metadata": {},
   "outputs": [],
   "source": []
  }
 ],
 "metadata": {
  "kernelspec": {
   "display_name": "Python 3 (ipykernel)",
   "language": "python",
   "name": "python3"
  },
  "language_info": {
   "codemirror_mode": {
    "name": "ipython",
    "version": 3
   },
   "file_extension": ".py",
   "mimetype": "text/x-python",
   "name": "python",
   "nbconvert_exporter": "python",
   "pygments_lexer": "ipython3",
   "version": "3.13.5"
  }
 },
 "nbformat": 4,
 "nbformat_minor": 5
}
