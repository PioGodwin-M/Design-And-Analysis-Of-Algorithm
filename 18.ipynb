{
 "cells": [
  {
   "cell_type": "code",
   "execution_count": 2,
   "id": "fa558d57-217c-4414-b204-6fa4a498c4b5",
   "metadata": {},
   "outputs": [
    {
     "name": "stdout",
     "output_type": "stream",
     "text": [
      "The 3-th smallest element is 7\n"
     ]
    }
   ],
   "source": [
    "import random\n",
    "\n",
    "# Function to partition the array around a pivot\n",
    "def partition(arr, low, high):\n",
    "    pivot = arr[high]\n",
    "    i = low - 1\n",
    "    for j in range(low, high):\n",
    "        if arr[j] <= pivot:\n",
    "            i += 1\n",
    "            arr[i], arr[j] = arr[j], arr[i]\n",
    "    arr[i + 1], arr[high] = arr[high], arr[i + 1]\n",
    "    return i + 1\n",
    "\n",
    "# QuickSelect function to find the k-th smallest element\n",
    "def quickselect(arr, low, high, k):\n",
    "    if low < high:\n",
    "        pivot_index = random.randint(low, high)\n",
    "        arr[pivot_index], arr[high] = arr[high], arr[pivot_index]\n",
    "        pivot_pos = partition(arr, low, high)\n",
    "\n",
    "        if k == pivot_pos:\n",
    "            return arr[k]\n",
    "        elif k < pivot_pos:\n",
    "            return quickselect(arr, low, pivot_pos - 1, k)\n",
    "        else:\n",
    "            return quickselect(arr, pivot_pos + 1, high, k)\n",
    "    else:\n",
    "        return arr[low]\n",
    "\n",
    "# Function to find the k-th smallest element in the array\n",
    "def find_kth_smallest(arr, k):\n",
    "    if k < 1 or k > len(arr):\n",
    "        raise ValueError(\"k is out of bounds\")\n",
    "    return quickselect(arr, 0, len(arr) - 1, k - 1)\n",
    "\n",
    "# Example usage\n",
    "arr = [7, 10, 4, 3, 20, 15]\n",
    "k = 3\n",
    "print(f\"The {k}-th smallest element is {find_kth_smallest(arr, k)}\")\n"
   ]
  },
  {
   "cell_type": "code",
   "execution_count": null,
   "id": "480b4fdf-fef1-4198-8257-8f5ffd5777c7",
   "metadata": {},
   "outputs": [],
   "source": []
  }
 ],
 "metadata": {
  "kernelspec": {
   "display_name": "Python 3 (ipykernel)",
   "language": "python",
   "name": "python3"
  },
  "language_info": {
   "codemirror_mode": {
    "name": "ipython",
    "version": 3
   },
   "file_extension": ".py",
   "mimetype": "text/x-python",
   "name": "python",
   "nbconvert_exporter": "python",
   "pygments_lexer": "ipython3",
   "version": "3.13.5"
  }
 },
 "nbformat": 4,
 "nbformat_minor": 5
}
