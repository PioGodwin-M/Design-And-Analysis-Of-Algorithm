{
 "cells": [
  {
   "cell_type": "code",
   "execution_count": 1,
   "id": "967868d3-80f2-4108-9e69-98e195ab57aa",
   "metadata": {},
   "outputs": [
    {
     "name": "stdout",
     "output_type": "stream",
     "text": [
      "Transitive closure matrix:\n",
      "[1, 1, 1, 1]\n",
      "[1, 1, 1, 1]\n",
      "[1, 1, 1, 1]\n",
      "[1, 1, 1, 1]\n"
     ]
    }
   ],
   "source": [
    "def warshall_algorithm(graph):\n",
    "    n = len(graph)\n",
    "    # Create a copy of the original graph\n",
    "    transitive_closure = [row[:] for row in graph]\n",
    "\n",
    "    # Compute the transitive closure using Warshall's algorithm\n",
    "    for k in range(n):\n",
    "        for i in range(n):\n",
    "            for j in range(n):\n",
    "                transitive_closure[i][j] = transitive_closure[i][j] or (transitive_closure[i][k] and transitive_closure[k][j])\n",
    "\n",
    "    return transitive_closure\n",
    "\n",
    "# Sample input\n",
    "graph = [\n",
    "    [0, 1, 0, 0],\n",
    "    [0, 0, 1, 0],\n",
    "    [0, 0, 0, 1],\n",
    "    [1, 0, 0, 0]\n",
    "]\n",
    "\n",
    "# Run the algorithm and print the result\n",
    "result = warshall_algorithm(graph)\n",
    "print(\"Transitive closure matrix:\")\n",
    "for row in result:\n",
    "    print(row)\n"
   ]
  },
  {
   "cell_type": "code",
   "execution_count": null,
   "id": "d19f4d4e-3fa4-4ff1-bad9-13b97536c3cd",
   "metadata": {},
   "outputs": [],
   "source": []
  }
 ],
 "metadata": {
  "kernelspec": {
   "display_name": "Python 3 (ipykernel)",
   "language": "python",
   "name": "python3"
  },
  "language_info": {
   "codemirror_mode": {
    "name": "ipython",
    "version": 3
   },
   "file_extension": ".py",
   "mimetype": "text/x-python",
   "name": "python",
   "nbconvert_exporter": "python",
   "pygments_lexer": "ipython3",
   "version": "3.13.5"
  }
 },
 "nbformat": 4,
 "nbformat_minor": 5
}
