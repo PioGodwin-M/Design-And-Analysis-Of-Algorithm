{
 "cells": [
  {
   "cell_type": "code",
   "execution_count": 1,
   "id": "9ac9339b-8897-420f-bd91-b79b02a27b44",
   "metadata": {},
   "outputs": [
    {
     "name": "stdin",
     "output_type": "stream",
     "text": [
      "Enter the number of queens:  8\n"
     ]
    },
    {
     "name": "stdout",
     "output_type": "stream",
     "text": [
      "Solution:\n",
      "Q . . . . . . . \n",
      ". . . . . . Q . \n",
      ". . . . Q . . . \n",
      ". . . . . . . Q \n",
      ". Q . . . . . . \n",
      ". . . Q . . . . \n",
      ". . . . . Q . . \n",
      ". . Q . . . . . \n"
     ]
    }
   ],
   "source": [
    "def is_safe(board, row, col, n):\n",
    "    # Check if there is any queen in the same row\n",
    "    for i in range(col):\n",
    "        if board[row][i] == 1:\n",
    "            return False\n",
    "\n",
    "    # Check upper diagonal on left side\n",
    "    for i, j in zip(range(row, -1, -1), range(col, -1, -1)):\n",
    "        if board[i][j] == 1:\n",
    "            return False\n",
    "\n",
    "    # Check lower diagonal on left side\n",
    "    for i, j in zip(range(row, n, 1), range(col, -1, -1)):\n",
    "        if board[i][j] == 1:\n",
    "            return False\n",
    "\n",
    "    return True\n",
    "\n",
    "def solve_n_queens(board, col, n):\n",
    "    if col >= n:\n",
    "        # All queens have been placed successfully\n",
    "        return True\n",
    "\n",
    "    for row in range(n):\n",
    "        if is_safe(board, row, col, n):\n",
    "            # Place the queen in the current cell\n",
    "            board[row][col] = 1\n",
    "            # Recur to place the rest of the queens\n",
    "            if solve_n_queens(board, col + 1, n):\n",
    "                return True\n",
    "\n",
    "            # Backtrack and remove the queen from the current cell\n",
    "            board[row][col] = 0\n",
    "\n",
    "    return False\n",
    "\n",
    "def print_board(board, n):\n",
    "    for i in range(n):\n",
    "        for j in range(n):\n",
    "            print(\"Q\" if board[i][j] else \".\", end=\" \")\n",
    "        print()\n",
    "\n",
    "def n_queens(n):\n",
    "    # Initialize the board\n",
    "    board = [[0 for _ in range(n)] for _ in range(n)]\n",
    "\n",
    "    if not solve_n_queens(board, 0, n):\n",
    "        print(\"Solution does not exist.\")\n",
    "        return False\n",
    "\n",
    "    print(\"Solution:\")\n",
    "    print_board(board, n)\n",
    "    return True\n",
    "\n",
    "if __name__ == \"__main__\":\n",
    "    n = int(input(\"Enter the number of queens: \"))\n",
    "    n_queens(n)\n"
   ]
  },
  {
   "cell_type": "code",
   "execution_count": null,
   "id": "86b83a0f-4872-4e15-9744-996c5e408860",
   "metadata": {},
   "outputs": [],
   "source": []
  }
 ],
 "metadata": {
  "kernelspec": {
   "display_name": "Python 3 (ipykernel)",
   "language": "python",
   "name": "python3"
  },
  "language_info": {
   "codemirror_mode": {
    "name": "ipython",
    "version": 3
   },
   "file_extension": ".py",
   "mimetype": "text/x-python",
   "name": "python",
   "nbconvert_exporter": "python",
   "pygments_lexer": "ipython3",
   "version": "3.13.5"
  }
 },
 "nbformat": 4,
 "nbformat_minor": 5
}
