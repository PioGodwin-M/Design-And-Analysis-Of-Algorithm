{
 "cells": [
  {
   "cell_type": "code",
   "execution_count": 1,
   "id": "12ea11bc-f1d7-43f5-afb8-a6f061147646",
   "metadata": {},
   "outputs": [
    {
     "name": "stdout",
     "output_type": "stream",
     "text": [
      "All-pairs shortest path matrix:\n",
      "[0, 5, 8, 9]\n",
      "[inf, 0, 3, 4]\n",
      "[inf, inf, 0, 1]\n",
      "[inf, inf, inf, 0]\n"
     ]
    }
   ],
   "source": [
    "INF = float('inf')\n",
    "\n",
    "def floyd_algorithm(graph):\n",
    "    n = len(graph)\n",
    "    dist = [[INF for _ in range(n)] for _ in range(n)]\n",
    "\n",
    "    # Initialize the distance matrix\n",
    "    for i in range(n):\n",
    "        for j in range(n):\n",
    "            if graph[i][j] != 0:\n",
    "                dist[i][j] = graph[i][j]\n",
    "            if i == j:\n",
    "                dist[i][j] = 0\n",
    "\n",
    "    # Floyd's algorithm to find all-pairs shortest paths\n",
    "    for k in range(n):\n",
    "        for i in range(n):\n",
    "            for j in range(n):\n",
    "                if dist[i][k] + dist[k][j] < dist[i][j]:\n",
    "                    dist[i][j] = dist[i][k] + dist[k][j]\n",
    "\n",
    "    return dist\n",
    "\n",
    "# Sample input graph\n",
    "graph = [\n",
    "    [0, 5, INF, 10],\n",
    "    [INF, 0, 3, INF],\n",
    "    [INF, INF, 0, 1],\n",
    "    [INF, INF, INF, 0]\n",
    "]\n",
    "\n",
    "# Run the algorithm and print the result\n",
    "result = floyd_algorithm(graph)\n",
    "print(\"All-pairs shortest path matrix:\")\n",
    "for row in result:\n",
    "    print(row)\n"
   ]
  },
  {
   "cell_type": "code",
   "execution_count": null,
   "id": "b2b89005-c7a1-4a31-a6c2-ec1fec7d48bb",
   "metadata": {},
   "outputs": [],
   "source": []
  }
 ],
 "metadata": {
  "kernelspec": {
   "display_name": "Python 3 (ipykernel)",
   "language": "python",
   "name": "python3"
  },
  "language_info": {
   "codemirror_mode": {
    "name": "ipython",
    "version": 3
   },
   "file_extension": ".py",
   "mimetype": "text/x-python",
   "name": "python",
   "nbconvert_exporter": "python",
   "pygments_lexer": "ipython3",
   "version": "3.13.5"
  }
 },
 "nbformat": 4,
 "nbformat_minor": 5
}
